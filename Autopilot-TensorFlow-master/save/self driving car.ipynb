{
 "cells": [
  {
   "cell_type": "code",
   "execution_count": 1,
   "id": "fc48d360",
   "metadata": {},
   "outputs": [],
   "source": [
    "import os\n",
    "from itertools import islice"
   ]
  },
  {
   "cell_type": "code",
   "execution_count": 3,
   "id": "69ae456a",
   "metadata": {},
   "outputs": [
    {
     "ename": "PermissionError",
     "evalue": "[Errno 13] Permission denied: 'D:/projects/ml/Autopilot-TensorFlow-master/dataset/driving_dataset/driving_dataset'",
     "output_type": "error",
     "traceback": [
      "\u001b[1;31m---------------------------------------------------------------------------\u001b[0m",
      "\u001b[1;31mPermissionError\u001b[0m                           Traceback (most recent call last)",
      "Input \u001b[1;32mIn [3]\u001b[0m, in \u001b[0;36m<cell line: 9>\u001b[1;34m()\u001b[0m\n\u001b[0;32m      6\u001b[0m x\u001b[38;5;241m=\u001b[39m[]\n\u001b[0;32m      7\u001b[0m y\u001b[38;5;241m=\u001b[39m[]\n\u001b[1;32m----> 9\u001b[0m \u001b[38;5;28;01mwith\u001b[39;00m \u001b[38;5;28;43mopen\u001b[39;49m\u001b[43m(\u001b[49m\u001b[43mtrain_file\u001b[49m\u001b[43m)\u001b[49m \u001b[38;5;28;01mas\u001b[39;00m fp:\n\u001b[0;32m     10\u001b[0m     \u001b[38;5;28;01mfor\u001b[39;00m line \u001b[38;5;129;01min\u001b[39;00m islice(fp,limit):\n\u001b[0;32m     11\u001b[0m         path, angle \u001b[38;5;241m=\u001b[39m line\u001b[38;5;241m.\u001b[39mstrip()\u001b[38;5;241m.\u001b[39msplit()\n",
      "\u001b[1;31mPermissionError\u001b[0m: [Errno 13] Permission denied: 'D:/projects/ml/Autopilot-TensorFlow-master/dataset/driving_dataset/driving_dataset'"
     ]
    }
   ],
   "source": [
    "data_folder = 'driving_data.py'\n",
    "train_file = os.path.join(data_folder,'D:/projects/ml/Autopilot-TensorFlow-master/dataset/driving_dataset/driving_dataset')\n",
    "limit = None\n",
    "\n",
    "split = 0.8\n",
    "x=[]\n",
    "y=[]\n",
    "\n",
    "with open(train_file) as fp:\n",
    "    for line in islice(fp,limit):\n",
    "        path, angle = line.strip().split()\n",
    "        full_path = os.path.join(data_folder, path)\n",
    "        x.append(full_path)\n",
    "        \n",
    "        y.append(float(angle)*pi/100)\n",
    "        \n",
    "y = np.array(y)\n",
    "print(\"Successful!!\")"
   ]
  },
  {
   "cell_type": "code",
   "execution_count": 9,
   "id": "bfe2aac5",
   "metadata": {},
   "outputs": [
    {
     "ename": "NameError",
     "evalue": "name 'y' is not defined",
     "output_type": "error",
     "traceback": [
      "\u001b[1;31m---------------------------------------------------------------------------\u001b[0m",
      "\u001b[1;31mNameError\u001b[0m                                 Traceback (most recent call last)",
      "Input \u001b[1;32mIn [9]\u001b[0m, in \u001b[0;36m<cell line: 2>\u001b[1;34m()\u001b[0m\n\u001b[0;32m      1\u001b[0m \u001b[38;5;66;03m#split the dataset\u001b[39;00m\n\u001b[1;32m----> 2\u001b[0m split_index \u001b[38;5;241m=\u001b[39m \u001b[38;5;28mint\u001b[39m(\u001b[38;5;28mlen\u001b[39m(\u001b[43my\u001b[49m)\u001b[38;5;241m*\u001b[39m\u001b[38;5;241m0.8\u001b[39m)\n",
      "\u001b[1;31mNameError\u001b[0m: name 'y' is not defined"
     ]
    }
   ],
   "source": [
    "#split the dataset\n",
    "split_index = int(len(y)*0.8)"
   ]
  },
  {
   "cell_type": "code",
   "execution_count": 10,
   "id": "58a6bcec",
   "metadata": {},
   "outputs": [
    {
     "ename": "NameError",
     "evalue": "name 'y' is not defined",
     "output_type": "error",
     "traceback": [
      "\u001b[1;31m---------------------------------------------------------------------------\u001b[0m",
      "\u001b[1;31mNameError\u001b[0m                                 Traceback (most recent call last)",
      "Input \u001b[1;32mIn [10]\u001b[0m, in \u001b[0;36m<cell line: 1>\u001b[1;34m()\u001b[0m\n\u001b[1;32m----> 1\u001b[0m train_y \u001b[38;5;241m=\u001b[39m \u001b[43my\u001b[49m[:split_index]\n",
      "\u001b[1;31mNameError\u001b[0m: name 'y' is not defined"
     ]
    }
   ],
   "source": [
    "train_y = y[:split_index]"
   ]
  },
  {
   "cell_type": "code",
   "execution_count": 11,
   "id": "bb17143d",
   "metadata": {},
   "outputs": [
    {
     "ename": "NameError",
     "evalue": "name 'y' is not defined",
     "output_type": "error",
     "traceback": [
      "\u001b[1;31m---------------------------------------------------------------------------\u001b[0m",
      "\u001b[1;31mNameError\u001b[0m                                 Traceback (most recent call last)",
      "Input \u001b[1;32mIn [11]\u001b[0m, in \u001b[0;36m<cell line: 1>\u001b[1;34m()\u001b[0m\n\u001b[1;32m----> 1\u001b[0m test_y \u001b[38;5;241m=\u001b[39m \u001b[43my\u001b[49m[split_index:]\n",
      "\u001b[1;31mNameError\u001b[0m: name 'y' is not defined"
     ]
    }
   ],
   "source": [
    "test_y = y[split_index:]"
   ]
  },
  {
   "cell_type": "code",
   "execution_count": 12,
   "id": "a198c6a1",
   "metadata": {},
   "outputs": [
    {
     "ename": "SyntaxError",
     "evalue": "invalid syntax (3804314999.py, line 1)",
     "output_type": "error",
     "traceback": [
      "\u001b[1;36m  Input \u001b[1;32mIn [12]\u001b[1;36m\u001b[0m\n\u001b[1;33m    from matplotlib.pyplot as plt\u001b[0m\n\u001b[1;37m                           ^\u001b[0m\n\u001b[1;31mSyntaxError\u001b[0m\u001b[1;31m:\u001b[0m invalid syntax\n"
     ]
    }
   ],
   "source": [
    "from matplotlib.pyplot as plt\n",
    "plt.hist(train_y, bins = 50, color = 'blue')"
   ]
  },
  {
   "cell_type": "code",
   "execution_count": 13,
   "id": "68307dc2",
   "metadata": {},
   "outputs": [
    {
     "ename": "NameError",
     "evalue": "name 'np' is not defined",
     "output_type": "error",
     "traceback": [
      "\u001b[1;31m---------------------------------------------------------------------------\u001b[0m",
      "\u001b[1;31mNameError\u001b[0m                                 Traceback (most recent call last)",
      "Input \u001b[1;32mIn [13]\u001b[0m, in \u001b[0;36m<cell line: 2>\u001b[1;34m()\u001b[0m\n\u001b[0;32m      1\u001b[0m \u001b[38;5;66;03m#regression problem\u001b[39;00m\n\u001b[1;32m----> 2\u001b[0m train_mean_y \u001b[38;5;241m=\u001b[39m \u001b[43mnp\u001b[49m\u001b[38;5;241m.\u001b[39mmean(train_y)\n",
      "\u001b[1;31mNameError\u001b[0m: name 'np' is not defined"
     ]
    }
   ],
   "source": [
    "#regression problem\n",
    "train_mean_y = np.mean(train_y)"
   ]
  },
  {
   "cell_type": "code",
   "execution_count": 14,
   "id": "c9fda269",
   "metadata": {},
   "outputs": [
    {
     "ename": "NameError",
     "evalue": "name 'np' is not defined",
     "output_type": "error",
     "traceback": [
      "\u001b[1;31m---------------------------------------------------------------------------\u001b[0m",
      "\u001b[1;31mNameError\u001b[0m                                 Traceback (most recent call last)",
      "Input \u001b[1;32mIn [14]\u001b[0m, in \u001b[0;36m<cell line: 1>\u001b[1;34m()\u001b[0m\n\u001b[1;32m----> 1\u001b[0m \u001b[43mnp\u001b[49m\u001b[38;5;241m.\u001b[39mmean(np\u001b[38;5;241m.\u001b[39msquare(test_y \u001b[38;5;241m-\u001b[39m train_mean_y))\n",
      "\u001b[1;31mNameError\u001b[0m: name 'np' is not defined"
     ]
    }
   ],
   "source": [
    "np.mean(np.square(test_y - train_mean_y))"
   ]
  },
  {
   "cell_type": "code",
   "execution_count": null,
   "id": "5fb25439",
   "metadata": {},
   "outputs": [],
   "source": [
    "np.mean(np.square(test_y = 0.0))"
   ]
  }
 ],
 "metadata": {
  "kernelspec": {
   "display_name": "Python 3 (ipykernel)",
   "language": "python",
   "name": "python3"
  },
  "language_info": {
   "codemirror_mode": {
    "name": "ipython",
    "version": 3
   },
   "file_extension": ".py",
   "mimetype": "text/x-python",
   "name": "python",
   "nbconvert_exporter": "python",
   "pygments_lexer": "ipython3",
   "version": "3.9.12"
  }
 },
 "nbformat": 4,
 "nbformat_minor": 5
}
